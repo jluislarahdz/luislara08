{
 "cells": [
  {
   "cell_type": "markdown",
   "id": "51618d34",
   "metadata": {},
   "source": [
    "# Agregación de datos por categoría"
   ]
  },
  {
   "cell_type": "code",
   "execution_count": 1,
   "id": "13314a34",
   "metadata": {},
   "outputs": [],
   "source": [
    "import numpy as np\n",
    "import pandas as pd"
   ]
  },
  {
   "cell_type": "code",
   "execution_count": 2,
   "id": "f69af5b8",
   "metadata": {},
   "outputs": [],
   "source": [
    "gender = [\"Male\", \"Female\"]\n",
    "income = [\"Poor\", \"Middle Class\", \"Rich\"]"
   ]
  },
  {
   "cell_type": "code",
   "execution_count": 4,
   "id": "0c7f0eb8",
   "metadata": {},
   "outputs": [],
   "source": [
    "n = 500\n",
    "\n",
    "gender_data = []\n",
    "income_data = []\n",
    "\n",
    "for i in range(0,500):\n",
    "    gender_data.append(np.random.choice(gender))\n",
    "    income_data.append(np.random.choice(income))"
   ]
  },
  {
   "cell_type": "code",
   "execution_count": 5,
   "id": "644c421d",
   "metadata": {},
   "outputs": [
    {
     "data": {
      "text/plain": [
       "['Male',\n",
       " 'Male',\n",
       " 'Female',\n",
       " 'Female',\n",
       " 'Female',\n",
       " 'Female',\n",
       " 'Female',\n",
       " 'Male',\n",
       " 'Female']"
      ]
     },
     "execution_count": 5,
     "metadata": {},
     "output_type": "execute_result"
    }
   ],
   "source": [
    "gender_data[1:10]"
   ]
  },
  {
   "cell_type": "code",
   "execution_count": 6,
   "id": "9b13e9f7",
   "metadata": {},
   "outputs": [
    {
     "data": {
      "text/plain": [
       "['Rich',\n",
       " 'Rich',\n",
       " 'Rich',\n",
       " 'Middle Class',\n",
       " 'Poor',\n",
       " 'Rich',\n",
       " 'Rich',\n",
       " 'Poor',\n",
       " 'Poor']"
      ]
     },
     "execution_count": 6,
     "metadata": {},
     "output_type": "execute_result"
    }
   ],
   "source": [
    "income_data[1:10]"
   ]
  },
  {
   "cell_type": "code",
   "execution_count": 7,
   "id": "8380096b",
   "metadata": {},
   "outputs": [],
   "source": [
    "#Z -> N(0,1)\n",
    "#N(m, s) -> m + s * Z\n",
    "height = 160 + 30 * np.random.randn(n)\n",
    "weight = 65 + 25 * np.random.randn(n)\n",
    "age = 30 + 12 * np.random.randn(n)\n",
    "income = 18000 + 3500 * np.random.rand(n)"
   ]
  },
  {
   "cell_type": "code",
   "execution_count": 8,
   "id": "e0029dc8",
   "metadata": {},
   "outputs": [],
   "source": [
    "data = pd.DataFrame(\n",
    "    {\n",
    "        \"Gender\" : gender_data,\n",
    "        \"Economic Status\" : income_data,\n",
    "        \"Height\" : height,\n",
    "        \"Weight\" : weight,\n",
    "        \"Age\" : age,\n",
    "        \"Income\" : income\n",
    "    }\n",
    ")"
   ]
  },
  {
   "cell_type": "code",
   "execution_count": 9,
   "id": "0be9c874",
   "metadata": {},
   "outputs": [
    {
     "data": {
      "text/html": [
       "<div>\n",
       "<style scoped>\n",
       "    .dataframe tbody tr th:only-of-type {\n",
       "        vertical-align: middle;\n",
       "    }\n",
       "\n",
       "    .dataframe tbody tr th {\n",
       "        vertical-align: top;\n",
       "    }\n",
       "\n",
       "    .dataframe thead th {\n",
       "        text-align: right;\n",
       "    }\n",
       "</style>\n",
       "<table border=\"1\" class=\"dataframe\">\n",
       "  <thead>\n",
       "    <tr style=\"text-align: right;\">\n",
       "      <th></th>\n",
       "      <th>Gender</th>\n",
       "      <th>Economic Status</th>\n",
       "      <th>Height</th>\n",
       "      <th>Weight</th>\n",
       "      <th>Age</th>\n",
       "      <th>Income</th>\n",
       "    </tr>\n",
       "  </thead>\n",
       "  <tbody>\n",
       "    <tr>\n",
       "      <th>0</th>\n",
       "      <td>Male</td>\n",
       "      <td>Middle Class</td>\n",
       "      <td>117.285870</td>\n",
       "      <td>78.700507</td>\n",
       "      <td>27.197096</td>\n",
       "      <td>19363.142412</td>\n",
       "    </tr>\n",
       "    <tr>\n",
       "      <th>1</th>\n",
       "      <td>Male</td>\n",
       "      <td>Rich</td>\n",
       "      <td>174.998696</td>\n",
       "      <td>87.739418</td>\n",
       "      <td>37.734331</td>\n",
       "      <td>18578.826964</td>\n",
       "    </tr>\n",
       "    <tr>\n",
       "      <th>2</th>\n",
       "      <td>Male</td>\n",
       "      <td>Rich</td>\n",
       "      <td>169.469189</td>\n",
       "      <td>70.023148</td>\n",
       "      <td>14.564485</td>\n",
       "      <td>20312.252754</td>\n",
       "    </tr>\n",
       "    <tr>\n",
       "      <th>3</th>\n",
       "      <td>Female</td>\n",
       "      <td>Rich</td>\n",
       "      <td>117.880962</td>\n",
       "      <td>73.845713</td>\n",
       "      <td>18.938852</td>\n",
       "      <td>18089.960733</td>\n",
       "    </tr>\n",
       "    <tr>\n",
       "      <th>4</th>\n",
       "      <td>Female</td>\n",
       "      <td>Middle Class</td>\n",
       "      <td>203.867152</td>\n",
       "      <td>61.199630</td>\n",
       "      <td>35.983664</td>\n",
       "      <td>19796.809592</td>\n",
       "    </tr>\n",
       "  </tbody>\n",
       "</table>\n",
       "</div>"
      ],
      "text/plain": [
       "   Gender Economic Status      Height     Weight        Age        Income\n",
       "0    Male    Middle Class  117.285870  78.700507  27.197096  19363.142412\n",
       "1    Male            Rich  174.998696  87.739418  37.734331  18578.826964\n",
       "2    Male            Rich  169.469189  70.023148  14.564485  20312.252754\n",
       "3  Female            Rich  117.880962  73.845713  18.938852  18089.960733\n",
       "4  Female    Middle Class  203.867152  61.199630  35.983664  19796.809592"
      ]
     },
     "execution_count": 9,
     "metadata": {},
     "output_type": "execute_result"
    }
   ],
   "source": [
    "data.head()"
   ]
  },
  {
   "cell_type": "markdown",
   "id": "bcfb4378",
   "metadata": {},
   "source": [
    "## Agrupación de datos"
   ]
  },
  {
   "cell_type": "code",
   "execution_count": 10,
   "id": "39bca06a",
   "metadata": {},
   "outputs": [],
   "source": [
    "grouped_gender = data.groupby(\"Gender\")"
   ]
  },
  {
   "cell_type": "code",
   "execution_count": 11,
   "id": "e3b90a92",
   "metadata": {},
   "outputs": [
    {
     "data": {
      "text/plain": [
       "{'Female': [3, 4, 5, 6, 7, 9, 10, 11, 12, 13, 16, 17, 20, 22, 24, 26, 37, 45, 46, 47, 49, 50, 51, 52, 55, 56, 58, 59, 62, 64, 65, 67, 69, 71, 72, 73, 74, 77, 78, 80, 82, 83, 84, 85, 88, 93, 94, 95, 101, 102, 103, 104, 107, 111, 112, 113, 114, 117, 119, 120, 121, 122, 127, 128, 130, 134, 135, 136, 137, 139, 140, 142, 143, 151, 152, 154, 155, 157, 159, 162, 163, 164, 165, 170, 172, 173, 174, 175, 176, 177, 180, 181, 182, 183, 186, 188, 189, 190, 191, 192, ...], 'Male': [0, 1, 2, 8, 14, 15, 18, 19, 21, 23, 25, 27, 28, 29, 30, 31, 32, 33, 34, 35, 36, 38, 39, 40, 41, 42, 43, 44, 48, 53, 54, 57, 60, 61, 63, 66, 68, 70, 75, 76, 79, 81, 86, 87, 89, 90, 91, 92, 96, 97, 98, 99, 100, 105, 106, 108, 109, 110, 115, 116, 118, 123, 124, 125, 126, 129, 131, 132, 133, 138, 141, 144, 145, 146, 147, 148, 149, 150, 153, 156, 158, 160, 161, 166, 167, 168, 169, 171, 178, 179, 184, 185, 187, 194, 195, 197, 198, 201, 202, 206, ...]}"
      ]
     },
     "execution_count": 11,
     "metadata": {},
     "output_type": "execute_result"
    }
   ],
   "source": [
    "grouped_gender.groups"
   ]
  },
  {
   "cell_type": "code",
   "execution_count": 12,
   "id": "a55efcea",
   "metadata": {},
   "outputs": [
    {
     "name": "stdout",
     "output_type": "stream",
     "text": [
      "Female\n",
      "     Gender Economic Status      Height     Weight        Age        Income\n",
      "3    Female            Rich  117.880962  73.845713  18.938852  18089.960733\n",
      "4    Female    Middle Class  203.867152  61.199630  35.983664  19796.809592\n",
      "5    Female            Poor  147.659015  43.108511  41.547687  20803.378335\n",
      "6    Female            Rich  165.559044  54.776506  28.410988  19011.270131\n",
      "7    Female            Rich  129.941511  66.167739  28.994028  18519.282337\n",
      "..      ...             ...         ...        ...        ...           ...\n",
      "494  Female            Poor  173.189656  30.190945  26.218418  18376.127596\n",
      "495  Female            Rich  210.493771  65.904621  31.083599  21419.077349\n",
      "496  Female            Rich  170.930533  71.919073  43.101281  21063.168561\n",
      "498  Female            Rich  154.150255  57.232591  25.682904  20775.592911\n",
      "499  Female    Middle Class  171.430351  35.769647  54.122635  18953.065499\n",
      "\n",
      "[256 rows x 6 columns]\n",
      "Male\n",
      "    Gender Economic Status      Height     Weight        Age        Income\n",
      "0     Male    Middle Class  117.285870  78.700507  27.197096  19363.142412\n",
      "1     Male            Rich  174.998696  87.739418  37.734331  18578.826964\n",
      "2     Male            Rich  169.469189  70.023148  14.564485  20312.252754\n",
      "8     Male            Poor  148.527017  36.344241  14.104540  20033.517865\n",
      "14    Male            Poor  164.088091  58.152746  20.758842  19308.948449\n",
      "..     ...             ...         ...        ...        ...           ...\n",
      "482   Male            Poor  133.809093  27.759504   7.224714  20674.825207\n",
      "483   Male            Poor  157.988236  84.676484  22.910966  19406.337784\n",
      "486   Male    Middle Class  131.958873  85.424474  24.186842  21218.204701\n",
      "492   Male            Rich  181.286398  46.981129  20.686582  20312.642806\n",
      "497   Male    Middle Class  197.538605  59.483266  21.843652  19654.719038\n",
      "\n",
      "[244 rows x 6 columns]\n"
     ]
    }
   ],
   "source": [
    "for names, groups in grouped_gender:\n",
    "    print(names)\n",
    "    print(groups)"
   ]
  },
  {
   "cell_type": "code",
   "execution_count": null,
   "id": "91b405d5",
   "metadata": {},
   "outputs": [],
   "source": []
  }
 ],
 "metadata": {
  "kernelspec": {
   "display_name": "Python 3 (ipykernel)",
   "language": "python",
   "name": "python3"
  },
  "language_info": {
   "codemirror_mode": {
    "name": "ipython",
    "version": 3
   },
   "file_extension": ".py",
   "mimetype": "text/x-python",
   "name": "python",
   "nbconvert_exporter": "python",
   "pygments_lexer": "ipython3",
   "version": "3.8.12"
  }
 },
 "nbformat": 4,
 "nbformat_minor": 5
}
