{
 "cells": [
  {
   "cell_type": "code",
   "execution_count": 2,
   "id": "f4aa833b",
   "metadata": {},
   "outputs": [],
   "source": [
    "import pandas as pd\n",
    "import os"
   ]
  },
  {
   "cell_type": "code",
   "execution_count": 3,
   "id": "ea795ff5",
   "metadata": {},
   "outputs": [],
   "source": [
    "medals_url = \"http://winterolympicsmedals.com/medals.csv\""
   ]
  },
  {
   "cell_type": "code",
   "execution_count": 4,
   "id": "b7214add",
   "metadata": {},
   "outputs": [
    {
     "name": "stdout",
     "output_type": "stream",
     "text": [
      "El estado de la respuesta es 200\n"
     ]
    }
   ],
   "source": [
    "import urllib3 \n",
    "http = urllib3.PoolManager()\n",
    "r = http.request('GET', medals_url)\n",
    "r.status\n",
    "print(\"El estado de la respuesta es %d\" %(r.status))\n",
    "response = r.data"
   ]
  },
  {
   "cell_type": "code",
   "execution_count": 5,
   "id": "27b98e02",
   "metadata": {},
   "outputs": [],
   "source": [
    "#El objeto reponse contiene un string binario, así que lo convertimos a un string descodificándolo en UTF-8\n",
    "encoding=\"utf-8\"\n",
    "str_data = response.decode(encoding)"
   ]
  },
  {
   "cell_type": "code",
   "execution_count": 6,
   "id": "724186aa",
   "metadata": {},
   "outputs": [],
   "source": [
    "#Dividimos el string en un array de filas, separándolo por intros.\n",
    "delim = \"\\n\"\n",
    "lines = str_data.split(delim)"
   ]
  },
  {
   "cell_type": "code",
   "execution_count": 7,
   "id": "9e042ccc",
   "metadata": {},
   "outputs": [],
   "source": [
    "#La primera línea contiene la cabecera, así que la extraemos\n",
    "sep = \",\"\n",
    "col_names = lines[0].split(sep)\n",
    "n_cols = len(col_names)\n"
   ]
  },
  {
   "cell_type": "code",
   "execution_count": 8,
   "id": "34ceb574",
   "metadata": {},
   "outputs": [
    {
     "data": {
      "text/plain": [
       "8"
      ]
     },
     "execution_count": 8,
     "metadata": {},
     "output_type": "execute_result"
    }
   ],
   "source": [
    "n_cols"
   ]
  },
  {
   "cell_type": "code",
   "execution_count": 9,
   "id": "7115afe6",
   "metadata": {},
   "outputs": [],
   "source": [
    "#Generamos un diccionario vacío donde irá la información procesada desde la URL externa\n",
    "counter = 0\n",
    "main_dict = {}\n",
    "for col in col_names:\n",
    "    main_dict[col] = []\n",
    "    \n"
   ]
  },
  {
   "cell_type": "code",
   "execution_count": 10,
   "id": "2d756a3f",
   "metadata": {},
   "outputs": [],
   "source": [
    "#Procesamos fila a fila la información para ir rellenando el diccionario con los datos como hicimos antes\n",
    "for line in lines:\n",
    "    #Nos saltamos la primera línea que es la que contiene la cabecera y ya tenemos procesada\n",
    "    if(counter > 0):\n",
    "        #Dividimos cada string por las comas como elemento separador\n",
    "        values = line.strip().split(sep)\n",
    "        #Añadimos cada valor a su respectiva columna del diccionario\n",
    "        for i in range(len(col_names)):\n",
    "            main_dict[col_names[i]].append(values[i])\n",
    "    counter += 1"
   ]
  },
  {
   "cell_type": "code",
   "execution_count": 11,
   "id": "d92fb74d",
   "metadata": {},
   "outputs": [
    {
     "name": "stdout",
     "output_type": "stream",
     "text": [
      "El data set tiene 2311 filas y 8 columnas\n"
     ]
    }
   ],
   "source": [
    "print(\"El data set tiene %d filas y %d columnas\"%(counter-1, n_cols))"
   ]
  },
  {
   "cell_type": "code",
   "execution_count": 12,
   "id": "a1c38083",
   "metadata": {
    "scrolled": true
   },
   "outputs": [
    {
     "data": {
      "text/html": [
       "<div>\n",
       "<style scoped>\n",
       "    .dataframe tbody tr th:only-of-type {\n",
       "        vertical-align: middle;\n",
       "    }\n",
       "\n",
       "    .dataframe tbody tr th {\n",
       "        vertical-align: top;\n",
       "    }\n",
       "\n",
       "    .dataframe thead th {\n",
       "        text-align: right;\n",
       "    }\n",
       "</style>\n",
       "<table border=\"1\" class=\"dataframe\">\n",
       "  <thead>\n",
       "    <tr style=\"text-align: right;\">\n",
       "      <th></th>\n",
       "      <th>Year</th>\n",
       "      <th>City</th>\n",
       "      <th>Sport</th>\n",
       "      <th>Discipline</th>\n",
       "      <th>NOC</th>\n",
       "      <th>Event</th>\n",
       "      <th>Event gender</th>\n",
       "      <th>Medal</th>\n",
       "    </tr>\n",
       "  </thead>\n",
       "  <tbody>\n",
       "    <tr>\n",
       "      <th>0</th>\n",
       "      <td>1924</td>\n",
       "      <td>Chamonix</td>\n",
       "      <td>Skating</td>\n",
       "      <td>Figure skating</td>\n",
       "      <td>AUT</td>\n",
       "      <td>individual</td>\n",
       "      <td>M</td>\n",
       "      <td>Silver</td>\n",
       "    </tr>\n",
       "    <tr>\n",
       "      <th>1</th>\n",
       "      <td>1924</td>\n",
       "      <td>Chamonix</td>\n",
       "      <td>Skating</td>\n",
       "      <td>Figure skating</td>\n",
       "      <td>AUT</td>\n",
       "      <td>individual</td>\n",
       "      <td>W</td>\n",
       "      <td>Gold</td>\n",
       "    </tr>\n",
       "    <tr>\n",
       "      <th>2</th>\n",
       "      <td>1924</td>\n",
       "      <td>Chamonix</td>\n",
       "      <td>Skating</td>\n",
       "      <td>Figure skating</td>\n",
       "      <td>AUT</td>\n",
       "      <td>pairs</td>\n",
       "      <td>X</td>\n",
       "      <td>Gold</td>\n",
       "    </tr>\n",
       "    <tr>\n",
       "      <th>3</th>\n",
       "      <td>1924</td>\n",
       "      <td>Chamonix</td>\n",
       "      <td>Bobsleigh</td>\n",
       "      <td>Bobsleigh</td>\n",
       "      <td>BEL</td>\n",
       "      <td>four-man</td>\n",
       "      <td>M</td>\n",
       "      <td>Bronze</td>\n",
       "    </tr>\n",
       "    <tr>\n",
       "      <th>4</th>\n",
       "      <td>1924</td>\n",
       "      <td>Chamonix</td>\n",
       "      <td>Ice Hockey</td>\n",
       "      <td>Ice Hockey</td>\n",
       "      <td>CAN</td>\n",
       "      <td>ice hockey</td>\n",
       "      <td>M</td>\n",
       "      <td>Gold</td>\n",
       "    </tr>\n",
       "  </tbody>\n",
       "</table>\n",
       "</div>"
      ],
      "text/plain": [
       "   Year      City       Sport      Discipline  NOC       Event Event gender  \\\n",
       "0  1924  Chamonix     Skating  Figure skating  AUT  individual            M   \n",
       "1  1924  Chamonix     Skating  Figure skating  AUT  individual            W   \n",
       "2  1924  Chamonix     Skating  Figure skating  AUT       pairs            X   \n",
       "3  1924  Chamonix   Bobsleigh       Bobsleigh  BEL    four-man            M   \n",
       "4  1924  Chamonix  Ice Hockey      Ice Hockey  CAN  ice hockey            M   \n",
       "\n",
       "    Medal  \n",
       "0  Silver  \n",
       "1    Gold  \n",
       "2    Gold  \n",
       "3  Bronze  \n",
       "4    Gold  "
      ]
     },
     "execution_count": 12,
     "metadata": {},
     "output_type": "execute_result"
    }
   ],
   "source": [
    "#Convertimos el diccionario procesado a Data Frame y comprobamos que los datos son correctos\n",
    "df = pd.DataFrame(main_dict)\n",
    "#df\n",
    "df.head()"
   ]
  },
  {
   "cell_type": "code",
   "execution_count": 16,
   "id": "79fb395f",
   "metadata": {},
   "outputs": [],
   "source": [
    "mainpath = \"/home/LuisLara/Course_maching_learning/cml/datasets/\"\n",
    "\n",
    "filename = \"ejemplo_medals/medals\""
   ]
  },
  {
   "cell_type": "code",
   "execution_count": 17,
   "id": "92983e30",
   "metadata": {},
   "outputs": [],
   "source": [
    "fullpat = os.path.join(mainpath,filename)"
   ]
  },
  {
   "cell_type": "code",
   "execution_count": 18,
   "id": "245dd023",
   "metadata": {},
   "outputs": [
    {
     "name": "stderr",
     "output_type": "stream",
     "text": [
      "/tmp/ipykernel_5578/1902954321.py:4: FutureWarning: As the xlwt package is no longer maintained, the xlwt engine will be removed in a future version of pandas. This is the only engine in pandas that supports writing in the xls format. Install openpyxl and write to an xlsx file instead. You can set the option io.excel.xls.writer to 'xlwt' to silence this warning. While this option is deprecated and will also raise a warning, it can be globally set and the warning suppressed.\n",
      "  df.to_excel(fullpat+\".xls\")\n"
     ]
    },
    {
     "name": "stdout",
     "output_type": "stream",
     "text": [
      "Los ficheros se han guardado correctamente en: /home/LuisLara/Course_maching_learning/cml/datasets/ejemplo_medals/medals\n"
     ]
    }
   ],
   "source": [
    "#Lo guardamos en CSV, en JSON o en Excel según queramos\n",
    "df.to_csv(fullpat+\".csv\")\n",
    "df.to_json(fullpat+\".json\")\n",
    "df.to_excel(fullpat+\".xls\")\n",
    "print(\"Los ficheros se han guardado correctamente en: \"+fullpat)\n"
   ]
  },
  {
   "cell_type": "code",
   "execution_count": 19,
   "id": "ffde044a",
   "metadata": {},
   "outputs": [],
   "source": [
    "dfpanda = pd.read_csv(medals_url)"
   ]
  },
  {
   "cell_type": "code",
   "execution_count": 20,
   "id": "ff67355d",
   "metadata": {},
   "outputs": [
    {
     "data": {
      "text/html": [
       "<div>\n",
       "<style scoped>\n",
       "    .dataframe tbody tr th:only-of-type {\n",
       "        vertical-align: middle;\n",
       "    }\n",
       "\n",
       "    .dataframe tbody tr th {\n",
       "        vertical-align: top;\n",
       "    }\n",
       "\n",
       "    .dataframe thead th {\n",
       "        text-align: right;\n",
       "    }\n",
       "</style>\n",
       "<table border=\"1\" class=\"dataframe\">\n",
       "  <thead>\n",
       "    <tr style=\"text-align: right;\">\n",
       "      <th></th>\n",
       "      <th>Year</th>\n",
       "      <th>City</th>\n",
       "      <th>Sport</th>\n",
       "      <th>Discipline</th>\n",
       "      <th>NOC</th>\n",
       "      <th>Event</th>\n",
       "      <th>Event gender</th>\n",
       "      <th>Medal</th>\n",
       "    </tr>\n",
       "  </thead>\n",
       "  <tbody>\n",
       "    <tr>\n",
       "      <th>0</th>\n",
       "      <td>1924</td>\n",
       "      <td>Chamonix</td>\n",
       "      <td>Skating</td>\n",
       "      <td>Figure skating</td>\n",
       "      <td>AUT</td>\n",
       "      <td>individual</td>\n",
       "      <td>M</td>\n",
       "      <td>Silver</td>\n",
       "    </tr>\n",
       "    <tr>\n",
       "      <th>1</th>\n",
       "      <td>1924</td>\n",
       "      <td>Chamonix</td>\n",
       "      <td>Skating</td>\n",
       "      <td>Figure skating</td>\n",
       "      <td>AUT</td>\n",
       "      <td>individual</td>\n",
       "      <td>W</td>\n",
       "      <td>Gold</td>\n",
       "    </tr>\n",
       "    <tr>\n",
       "      <th>2</th>\n",
       "      <td>1924</td>\n",
       "      <td>Chamonix</td>\n",
       "      <td>Skating</td>\n",
       "      <td>Figure skating</td>\n",
       "      <td>AUT</td>\n",
       "      <td>pairs</td>\n",
       "      <td>X</td>\n",
       "      <td>Gold</td>\n",
       "    </tr>\n",
       "    <tr>\n",
       "      <th>3</th>\n",
       "      <td>1924</td>\n",
       "      <td>Chamonix</td>\n",
       "      <td>Bobsleigh</td>\n",
       "      <td>Bobsleigh</td>\n",
       "      <td>BEL</td>\n",
       "      <td>four-man</td>\n",
       "      <td>M</td>\n",
       "      <td>Bronze</td>\n",
       "    </tr>\n",
       "    <tr>\n",
       "      <th>4</th>\n",
       "      <td>1924</td>\n",
       "      <td>Chamonix</td>\n",
       "      <td>Ice Hockey</td>\n",
       "      <td>Ice Hockey</td>\n",
       "      <td>CAN</td>\n",
       "      <td>ice hockey</td>\n",
       "      <td>M</td>\n",
       "      <td>Gold</td>\n",
       "    </tr>\n",
       "    <tr>\n",
       "      <th>...</th>\n",
       "      <td>...</td>\n",
       "      <td>...</td>\n",
       "      <td>...</td>\n",
       "      <td>...</td>\n",
       "      <td>...</td>\n",
       "      <td>...</td>\n",
       "      <td>...</td>\n",
       "      <td>...</td>\n",
       "    </tr>\n",
       "    <tr>\n",
       "      <th>2306</th>\n",
       "      <td>2006</td>\n",
       "      <td>Turin</td>\n",
       "      <td>Skiing</td>\n",
       "      <td>Snowboard</td>\n",
       "      <td>USA</td>\n",
       "      <td>Half-pipe</td>\n",
       "      <td>M</td>\n",
       "      <td>Silver</td>\n",
       "    </tr>\n",
       "    <tr>\n",
       "      <th>2307</th>\n",
       "      <td>2006</td>\n",
       "      <td>Turin</td>\n",
       "      <td>Skiing</td>\n",
       "      <td>Snowboard</td>\n",
       "      <td>USA</td>\n",
       "      <td>Half-pipe</td>\n",
       "      <td>W</td>\n",
       "      <td>Gold</td>\n",
       "    </tr>\n",
       "    <tr>\n",
       "      <th>2308</th>\n",
       "      <td>2006</td>\n",
       "      <td>Turin</td>\n",
       "      <td>Skiing</td>\n",
       "      <td>Snowboard</td>\n",
       "      <td>USA</td>\n",
       "      <td>Half-pipe</td>\n",
       "      <td>W</td>\n",
       "      <td>Silver</td>\n",
       "    </tr>\n",
       "    <tr>\n",
       "      <th>2309</th>\n",
       "      <td>2006</td>\n",
       "      <td>Turin</td>\n",
       "      <td>Skiing</td>\n",
       "      <td>Snowboard</td>\n",
       "      <td>USA</td>\n",
       "      <td>Snowboard Cross</td>\n",
       "      <td>M</td>\n",
       "      <td>Gold</td>\n",
       "    </tr>\n",
       "    <tr>\n",
       "      <th>2310</th>\n",
       "      <td>2006</td>\n",
       "      <td>Turin</td>\n",
       "      <td>Skiing</td>\n",
       "      <td>Snowboard</td>\n",
       "      <td>USA</td>\n",
       "      <td>Snowboard Cross</td>\n",
       "      <td>W</td>\n",
       "      <td>Silver</td>\n",
       "    </tr>\n",
       "  </tbody>\n",
       "</table>\n",
       "<p>2311 rows × 8 columns</p>\n",
       "</div>"
      ],
      "text/plain": [
       "      Year      City       Sport      Discipline  NOC            Event  \\\n",
       "0     1924  Chamonix     Skating  Figure skating  AUT       individual   \n",
       "1     1924  Chamonix     Skating  Figure skating  AUT       individual   \n",
       "2     1924  Chamonix     Skating  Figure skating  AUT            pairs   \n",
       "3     1924  Chamonix   Bobsleigh       Bobsleigh  BEL         four-man   \n",
       "4     1924  Chamonix  Ice Hockey      Ice Hockey  CAN       ice hockey   \n",
       "...    ...       ...         ...             ...  ...              ...   \n",
       "2306  2006     Turin      Skiing       Snowboard  USA        Half-pipe   \n",
       "2307  2006     Turin      Skiing       Snowboard  USA        Half-pipe   \n",
       "2308  2006     Turin      Skiing       Snowboard  USA        Half-pipe   \n",
       "2309  2006     Turin      Skiing       Snowboard  USA  Snowboard Cross   \n",
       "2310  2006     Turin      Skiing       Snowboard  USA  Snowboard Cross   \n",
       "\n",
       "     Event gender   Medal  \n",
       "0               M  Silver  \n",
       "1               W    Gold  \n",
       "2               X    Gold  \n",
       "3               M  Bronze  \n",
       "4               M    Gold  \n",
       "...           ...     ...  \n",
       "2306            M  Silver  \n",
       "2307            W    Gold  \n",
       "2308            W  Silver  \n",
       "2309            M    Gold  \n",
       "2310            W  Silver  \n",
       "\n",
       "[2311 rows x 8 columns]"
      ]
     },
     "execution_count": 20,
     "metadata": {},
     "output_type": "execute_result"
    }
   ],
   "source": [
    "dfpanda"
   ]
  },
  {
   "cell_type": "code",
   "execution_count": 21,
   "id": "859ea22d",
   "metadata": {},
   "outputs": [],
   "source": [
    "mainpath = \"/home/LuisLara/Course_maching_learning/cml/datasets/\"\n",
    "\n",
    "filename = \"medals_copy/medals_copy\""
   ]
  },
  {
   "cell_type": "code",
   "execution_count": 22,
   "id": "796fa690",
   "metadata": {},
   "outputs": [],
   "source": [
    "fullpat_1 = os.path.join(mainpath,filename)"
   ]
  },
  {
   "cell_type": "code",
   "execution_count": 25,
   "id": "3d9ba407",
   "metadata": {},
   "outputs": [
    {
     "name": "stderr",
     "output_type": "stream",
     "text": [
      "/tmp/ipykernel_5578/2931211443.py:4: FutureWarning: As the xlwt package is no longer maintained, the xlwt engine will be removed in a future version of pandas. This is the only engine in pandas that supports writing in the xls format. Install openpyxl and write to an xlsx file instead. You can set the option io.excel.xls.writer to 'xlwt' to silence this warning. While this option is deprecated and will also raise a warning, it can be globally set and the warning suppressed.\n",
      "  dfpanda.to_excel(fullpat_1+\".xls\")\n"
     ]
    },
    {
     "name": "stdout",
     "output_type": "stream",
     "text": [
      "Los ficheros se han guardado correctamente en: /home/LuisLara/Course_maching_learning/cml/datasets/medals_copy/medals_copy\n"
     ]
    }
   ],
   "source": [
    "#Lo guardamos en CSV, en JSON o en Excel según queramos\n",
    "dfpanda.to_csv(fullpat_1+\".csv\")\n",
    "dfpanda.to_json(fullpat_1+\".json\")\n",
    "dfpanda.to_excel(fullpat_1+\".xls\")\n",
    "print(\"Los ficheros se han guardado correctamente en: \"+fullpat_1)\n"
   ]
  },
  {
   "cell_type": "code",
   "execution_count": null,
   "id": "4b30f2db",
   "metadata": {},
   "outputs": [],
   "source": []
  }
 ],
 "metadata": {
  "kernelspec": {
   "display_name": "Python 3 (ipykernel)",
   "language": "python",
   "name": "python3"
  },
  "language_info": {
   "codemirror_mode": {
    "name": "ipython",
    "version": 3
   },
   "file_extension": ".py",
   "mimetype": "text/x-python",
   "name": "python",
   "nbconvert_exporter": "python",
   "pygments_lexer": "ipython3",
   "version": "3.8.12"
  }
 },
 "nbformat": 4,
 "nbformat_minor": 5
}
