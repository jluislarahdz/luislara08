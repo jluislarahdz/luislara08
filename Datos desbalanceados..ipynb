{
 "cells": [
  {
   "cell_type": "markdown",
   "metadata": {},
   "source": [
    "# Datos desbalanceados. Usando Imbalanced Learn y otros mètodos de entrenamiento. "
   ]
  },
  {
   "cell_type": "code",
   "execution_count": 63,
   "metadata": {},
   "outputs": [],
   "source": [
    "# Ficheros primarios necesarios.\n",
    "\n",
    "import pandas as pd\n",
    "import numpy as np\n",
    "import matplotlib.pyplot as plt\n",
    "import seaborn as sns\n",
    "import os\n",
    "\n",
    "from sklearn.metrics import confusion_matrix\n",
    "from sklearn.metrics import classification_report\n",
    "from sklearn.model_selection import train_test_split\n",
    "from sklearn.linear_model import LogisticRegression\n",
    "from sklearn.decomposition import PCA\n",
    "from sklearn.tree import DecisionTreeClassifier\n",
    "\n",
    "from pylab import rcParams\n",
    "\n",
    "from imblearn.under_sampling import NearMiss\n",
    "from imblearn.over_sampling import RandomOverSampler\n",
    "from imblearn.combine import SMOTETomek\n",
    "from imblearn.ensemble import BalancedBaggingClassifier\n",
    "\n",
    "\n",
    "from collections import Counter\n",
    "\n",
    "# Gráficos\n",
    "# ==============================================================================\n",
    "from matplotlib import style\n",
    "\n",
    "\n",
    "rcParams['figure.figsize'] = 14, 8.7 \n",
    "LABELS = [\"Normal\",\"Fraud\"]\n",
    "%matplotlib inline\n"
   ]
  },
  {
   "cell_type": "markdown",
   "metadata": {},
   "source": [
    "### Dataframe. "
   ]
  },
  {
   "cell_type": "code",
   "execution_count": 12,
   "metadata": {},
   "outputs": [],
   "source": [
    "mainpath = \"/Users/macbook/Python Programs/datasets/\"\n",
    "filename = \"Datos/BaseDatos2020.xlsx\"\n",
    "fullpad = fullpath = os.path.join(mainpath, filename)"
   ]
  },
  {
   "cell_type": "code",
   "execution_count": 13,
   "metadata": {},
   "outputs": [],
   "source": [
    "df = pd.read_excel(fullpath)"
   ]
  },
  {
   "cell_type": "code",
   "execution_count": 15,
   "metadata": {
    "scrolled": true
   },
   "outputs": [
    {
     "data": {
      "text/html": [
       "<div>\n",
       "<style scoped>\n",
       "    .dataframe tbody tr th:only-of-type {\n",
       "        vertical-align: middle;\n",
       "    }\n",
       "\n",
       "    .dataframe tbody tr th {\n",
       "        vertical-align: top;\n",
       "    }\n",
       "\n",
       "    .dataframe thead th {\n",
       "        text-align: right;\n",
       "    }\n",
       "</style>\n",
       "<table border=\"1\" class=\"dataframe\">\n",
       "  <thead>\n",
       "    <tr style=\"text-align: right;\">\n",
       "      <th></th>\n",
       "      <th>Edad</th>\n",
       "      <th>Sexo_T</th>\n",
       "      <th>PlazoYr360</th>\n",
       "      <th>PrimaAnualEst</th>\n",
       "      <th>Frec_Pago_Mensual</th>\n",
       "      <th>Sobrevive</th>\n",
       "    </tr>\n",
       "  </thead>\n",
       "  <tbody>\n",
       "    <tr>\n",
       "      <th>0</th>\n",
       "      <td>66</td>\n",
       "      <td>0</td>\n",
       "      <td>1.000000</td>\n",
       "      <td>1.917595</td>\n",
       "      <td>0</td>\n",
       "      <td>0</td>\n",
       "    </tr>\n",
       "    <tr>\n",
       "      <th>1</th>\n",
       "      <td>41</td>\n",
       "      <td>1</td>\n",
       "      <td>1.000000</td>\n",
       "      <td>0.018418</td>\n",
       "      <td>1</td>\n",
       "      <td>0</td>\n",
       "    </tr>\n",
       "    <tr>\n",
       "      <th>2</th>\n",
       "      <td>66</td>\n",
       "      <td>0</td>\n",
       "      <td>1.000000</td>\n",
       "      <td>-0.149204</td>\n",
       "      <td>1</td>\n",
       "      <td>0</td>\n",
       "    </tr>\n",
       "    <tr>\n",
       "      <th>3</th>\n",
       "      <td>32</td>\n",
       "      <td>1</td>\n",
       "      <td>1.000000</td>\n",
       "      <td>-0.348033</td>\n",
       "      <td>0</td>\n",
       "      <td>0</td>\n",
       "    </tr>\n",
       "    <tr>\n",
       "      <th>4</th>\n",
       "      <td>49</td>\n",
       "      <td>1</td>\n",
       "      <td>2.116667</td>\n",
       "      <td>0.141711</td>\n",
       "      <td>1</td>\n",
       "      <td>1</td>\n",
       "    </tr>\n",
       "    <tr>\n",
       "      <th>5</th>\n",
       "      <td>41</td>\n",
       "      <td>0</td>\n",
       "      <td>1.802778</td>\n",
       "      <td>2.750068</td>\n",
       "      <td>1</td>\n",
       "      <td>1</td>\n",
       "    </tr>\n",
       "    <tr>\n",
       "      <th>6</th>\n",
       "      <td>32</td>\n",
       "      <td>0</td>\n",
       "      <td>2.508333</td>\n",
       "      <td>0.865052</td>\n",
       "      <td>0</td>\n",
       "      <td>1</td>\n",
       "    </tr>\n",
       "    <tr>\n",
       "      <th>7</th>\n",
       "      <td>25</td>\n",
       "      <td>0</td>\n",
       "      <td>1.083333</td>\n",
       "      <td>-0.107941</td>\n",
       "      <td>1</td>\n",
       "      <td>0</td>\n",
       "    </tr>\n",
       "    <tr>\n",
       "      <th>8</th>\n",
       "      <td>62</td>\n",
       "      <td>0</td>\n",
       "      <td>2.483333</td>\n",
       "      <td>-0.293556</td>\n",
       "      <td>1</td>\n",
       "      <td>1</td>\n",
       "    </tr>\n",
       "    <tr>\n",
       "      <th>9</th>\n",
       "      <td>55</td>\n",
       "      <td>0</td>\n",
       "      <td>2.425000</td>\n",
       "      <td>-0.071503</td>\n",
       "      <td>1</td>\n",
       "      <td>1</td>\n",
       "    </tr>\n",
       "    <tr>\n",
       "      <th>10</th>\n",
       "      <td>53</td>\n",
       "      <td>1</td>\n",
       "      <td>1.250000</td>\n",
       "      <td>0.232985</td>\n",
       "      <td>1</td>\n",
       "      <td>0</td>\n",
       "    </tr>\n",
       "    <tr>\n",
       "      <th>11</th>\n",
       "      <td>42</td>\n",
       "      <td>0</td>\n",
       "      <td>1.000000</td>\n",
       "      <td>-0.592625</td>\n",
       "      <td>1</td>\n",
       "      <td>0</td>\n",
       "    </tr>\n",
       "    <tr>\n",
       "      <th>12</th>\n",
       "      <td>39</td>\n",
       "      <td>0</td>\n",
       "      <td>1.083333</td>\n",
       "      <td>-0.160433</td>\n",
       "      <td>1</td>\n",
       "      <td>0</td>\n",
       "    </tr>\n",
       "    <tr>\n",
       "      <th>13</th>\n",
       "      <td>38</td>\n",
       "      <td>0</td>\n",
       "      <td>2.083333</td>\n",
       "      <td>-0.462396</td>\n",
       "      <td>1</td>\n",
       "      <td>0</td>\n",
       "    </tr>\n",
       "    <tr>\n",
       "      <th>14</th>\n",
       "      <td>47</td>\n",
       "      <td>1</td>\n",
       "      <td>1.000000</td>\n",
       "      <td>-0.549251</td>\n",
       "      <td>1</td>\n",
       "      <td>0</td>\n",
       "    </tr>\n",
       "  </tbody>\n",
       "</table>\n",
       "</div>"
      ],
      "text/plain": [
       "    Edad  Sexo_T  PlazoYr360  PrimaAnualEst  Frec_Pago_Mensual  Sobrevive\n",
       "0     66       0    1.000000       1.917595                  0          0\n",
       "1     41       1    1.000000       0.018418                  1          0\n",
       "2     66       0    1.000000      -0.149204                  1          0\n",
       "3     32       1    1.000000      -0.348033                  0          0\n",
       "4     49       1    2.116667       0.141711                  1          1\n",
       "5     41       0    1.802778       2.750068                  1          1\n",
       "6     32       0    2.508333       0.865052                  0          1\n",
       "7     25       0    1.083333      -0.107941                  1          0\n",
       "8     62       0    2.483333      -0.293556                  1          1\n",
       "9     55       0    2.425000      -0.071503                  1          1\n",
       "10    53       1    1.250000       0.232985                  1          0\n",
       "11    42       0    1.000000      -0.592625                  1          0\n",
       "12    39       0    1.083333      -0.160433                  1          0\n",
       "13    38       0    2.083333      -0.462396                  1          0\n",
       "14    47       1    1.000000      -0.549251                  1          0"
      ]
     },
     "execution_count": 15,
     "metadata": {},
     "output_type": "execute_result"
    }
   ],
   "source": [
    "df.head(15)"
   ]
  },
  {
   "cell_type": "markdown",
   "metadata": {},
   "source": [
    "### Implementación de la regresión logísitica. Y datos de entrenamiento. "
   ]
  },
  {
   "cell_type": "code",
   "execution_count": 56,
   "metadata": {
    "scrolled": true
   },
   "outputs": [
    {
     "name": "stderr",
     "output_type": "stream",
     "text": [
      "/Users/macbook/anaconda3/lib/python3.7/site-packages/sklearn/model_selection/_split.py:2179: FutureWarning: From version 0.21, test_size will always complement train_size unless both are specified.\n",
      "  FutureWarning)\n"
     ]
    },
    {
     "name": "stdout",
     "output_type": "stream",
     "text": [
      "Intercept: [-12.78492767]\n",
      "Coeficiente: [('Edad', 0.0123494654815647), ('Sexo_T', 0.052139794708644674), ('PlazoYr360', 6.356317716155302), ('PrimaAnualEst', 0.021752840534136945), ('Frec_Pago_Mensual', 0.4771642250578436)]\n",
      "Accuracy de entrenamiento: 0.9184624528589688\n"
     ]
    },
    {
     "data": {
      "image/png": "[encoded data removed]",
      "text/plain": [
       "<Figure size 864x864 with 2 Axes>"
      ]
     },
     "metadata": {
      "needs_background": "light"
     },
     "output_type": "display_data"
    },
    {
     "name": "stdout",
     "output_type": "stream",
     "text": [
      "              precision    recall  f1-score   support\n",
      "\n",
      "           0       0.95      0.95      0.95     45051\n",
      "           1       0.80      0.81      0.81     11986\n",
      "\n",
      "   micro avg       0.92      0.92      0.92     57037\n",
      "   macro avg       0.88      0.88      0.88     57037\n",
      "weighted avg       0.92      0.92      0.92     57037\n",
      "\n"
     ]
    }
   ],
   "source": [
    "y = df['Sobrevive']\n",
    "X = df.drop('Sobrevive', axis=1)\n",
    "#dividimos en sets de entrenamiento y test\n",
    "X_train, X_test, y_train, y_test = train_test_split(X, y, train_size=0.7)\n",
    " \n",
    "#creamos una función que crea el modelo que usaremos cada vez\n",
    "def run_model(X_train, X_test, y_train, y_test):\n",
    "    clf_base = LogisticRegression(C=1.0,penalty='l2',random_state=1,solver=\"newton-cg\")\n",
    "    result = clf_base.fit(X_train, y_train)\n",
    "    print(\"Intercept:\", clf_base.intercept_)\n",
    "    print(\"Coeficiente:\", list(zip(X.columns, clf_base.coef_.flatten(), )))\n",
    "    print(\"Accuracy de entrenamiento:\", clf_base.score(X, y))\n",
    "    \n",
    "    \n",
    "    return clf_base\n",
    "  \n",
    "\n",
    "\n",
    " \n",
    "#ejecutamos el modelo \"tal cual\"\n",
    "model = run_model(X_train, X_test, y_train, y_test)\n",
    "\n",
    " \n",
    "#definimos funciona para mostrar los resultados\n",
    "def mostrar_resultados(y_test, pred_y):\n",
    "    conf_matrix = confusion_matrix(y_test, pred_y)\n",
    "    plt.figure(figsize=(12, 12))\n",
    "    sns.heatmap(conf_matrix, xticklabels=LABELS, yticklabels=LABELS, annot=True, fmt=\"d\");\n",
    "    plt.title(\"Confusion matrix\")\n",
    "    plt.ylabel('True class')\n",
    "    plt.xlabel('Predicted class')\n",
    "    plt.show()\n",
    "    print (classification_report(y_test, pred_y))\n",
    " \n",
    "pred_y = model.predict(X_test)\n",
    "mostrar_resultados(y_test, pred_y)\n",
    "\n"
   ]
  },
  {
   "cell_type": "markdown",
   "metadata": {},
   "source": [
    "### Implementación de el modelo de regresión logística desde statsmodels."
   ]
  },
  {
   "cell_type": "code",
   "execution_count": 39,
   "metadata": {},
   "outputs": [
    {
     "name": "stderr",
     "output_type": "stream",
     "text": [
      "/Users/macbook/anaconda3/lib/python3.7/site-packages/sklearn/model_selection/_split.py:2179: FutureWarning: From version 0.21, test_size will always complement train_size unless both are specified.\n",
      "  FutureWarning)\n"
     ]
    }
   ],
   "source": [
    "# Ficheros. \n",
    "import statsmodels.api as sm\n",
    "\n",
    "#Definición de variables. \n",
    "y = df['Sobrevive']\n",
    "X = df.drop('Sobrevive', axis=1)\n",
    "# Sets de entrenamiento. \n",
    "X_train, X_test, y_train, y_test = train_test_split(X, y, train_size=0.7)\n",
    "\n",
    "\n",
    "logit_model = sm.Logit(y_train, X_train)\n",
    "\n",
    "\n",
    "\n",
    "\n"
   ]
  },
  {
   "cell_type": "code",
   "execution_count": 40,
   "metadata": {},
   "outputs": [
    {
     "name": "stdout",
     "output_type": "stream",
     "text": [
      "Optimization terminated successfully.\n",
      "         Current function value: 0.333505\n",
      "         Iterations 7\n"
     ]
    }
   ],
   "source": [
    "result = logit_model.fit()"
   ]
  },
  {
   "cell_type": "code",
   "execution_count": 41,
   "metadata": {},
   "outputs": [
    {
     "data": {
      "text/html": [
       "<table class=\"simpletable\">\n",
       "<tr>\n",
       "        <td>Model:</td>              <td>Logit</td>      <td>Pseudo R-squared:</td>    <td>0.353</td>  \n",
       "</tr>\n",
       "<tr>\n",
       "  <td>Dependent Variable:</td>     <td>Sobrevive</td>          <td>AIC:</td>        <td>88778.2695</td>\n",
       "</tr>\n",
       "<tr>\n",
       "         <td>Date:</td>        <td>2022-11-16 10:19</td>       <td>BIC:</td>        <td>88827.2632</td>\n",
       "</tr>\n",
       "<tr>\n",
       "   <td>No. Observations:</td>       <td>133084</td>       <td>Log-Likelihood:</td>    <td>-44384.</td> \n",
       "</tr>\n",
       "<tr>\n",
       "       <td>Df Model:</td>              <td>4</td>            <td>LL-Null:</td>        <td>-68631.</td> \n",
       "</tr>\n",
       "<tr>\n",
       "     <td>Df Residuals:</td>         <td>133079</td>        <td>LLR p-value:</td>      <td>0.0000</td>  \n",
       "</tr>\n",
       "<tr>\n",
       "      <td>Converged:</td>           <td>1.0000</td>           <td>Scale:</td>         <td>1.0000</td>  \n",
       "</tr>\n",
       "<tr>\n",
       "    <td>No. Iterations:</td>        <td>7.0000</td>              <td></td>               <td></td>     \n",
       "</tr>\n",
       "</table>\n",
       "<table class=\"simpletable\">\n",
       "<tr>\n",
       "          <td></td>           <th>Coef.</th>  <th>Std.Err.</th>     <th>z</th>      <th>P>|z|</th> <th>[0.025</th>  <th>0.975]</th> \n",
       "</tr>\n",
       "<tr>\n",
       "  <th>Edad</th>              <td>-0.1071</td>  <td>0.0007</td>  <td>-157.5867</td> <td>0.0000</td> <td>-0.1085</td> <td>-0.1058</td>\n",
       "</tr>\n",
       "<tr>\n",
       "  <th>Sexo_T</th>            <td>-0.6002</td>  <td>0.0178</td>  <td>-33.6380</td>  <td>0.0000</td> <td>-0.6351</td> <td>-0.5652</td>\n",
       "</tr>\n",
       "<tr>\n",
       "  <th>PlazoYr360</th>        <td>3.9008</td>   <td>0.0227</td>  <td>172.1238</td>  <td>0.0000</td> <td>3.8564</td>  <td>3.9452</td> \n",
       "</tr>\n",
       "<tr>\n",
       "  <th>PrimaAnualEst</th>     <td>0.3329</td>   <td>0.0083</td>   <td>39.9395</td>  <td>0.0000</td> <td>0.3166</td>  <td>0.3492</td> \n",
       "</tr>\n",
       "<tr>\n",
       "  <th>Frec_Pago_Mensual</th> <td>-2.7217</td>  <td>0.0243</td>  <td>-111.9563</td> <td>0.0000</td> <td>-2.7694</td> <td>-2.6741</td>\n",
       "</tr>\n",
       "</table>"
      ],
      "text/plain": [
       "<class 'statsmodels.iolib.summary2.Summary'>\n",
       "\"\"\"\n",
       "                          Results: Logit\n",
       "===================================================================\n",
       "Model:                Logit            Pseudo R-squared: 0.353     \n",
       "Dependent Variable:   Sobrevive        AIC:              88778.2695\n",
       "Date:                 2022-11-16 10:19 BIC:              88827.2632\n",
       "No. Observations:     133084           Log-Likelihood:   -44384.   \n",
       "Df Model:             4                LL-Null:          -68631.   \n",
       "Df Residuals:         133079           LLR p-value:      0.0000    \n",
       "Converged:            1.0000           Scale:            1.0000    \n",
       "No. Iterations:       7.0000                                       \n",
       "-------------------------------------------------------------------\n",
       "                   Coef.  Std.Err.     z     P>|z|   [0.025  0.975]\n",
       "-------------------------------------------------------------------\n",
       "Edad              -0.1071   0.0007 -157.5867 0.0000 -0.1085 -0.1058\n",
       "Sexo_T            -0.6002   0.0178  -33.6380 0.0000 -0.6351 -0.5652\n",
       "PlazoYr360         3.9008   0.0227  172.1238 0.0000  3.8564  3.9452\n",
       "PrimaAnualEst      0.3329   0.0083   39.9395 0.0000  0.3166  0.3492\n",
       "Frec_Pago_Mensual -2.7217   0.0243 -111.9563 0.0000 -2.7694 -2.6741\n",
       "===================================================================\n",
       "\n",
       "\"\"\""
      ]
     },
     "execution_count": 41,
     "metadata": {},
     "output_type": "execute_result"
    }
   ],
   "source": [
    "result.summary2()"
   ]
  },
  {
   "cell_type": "code",
   "execution_count": 55,
   "metadata": {},
   "outputs": [
    {
     "data": {
      "text/html": [
       "<div>\n",
       "<style scoped>\n",
       "    .dataframe tbody tr th:only-of-type {\n",
       "        vertical-align: middle;\n",
       "    }\n",
       "\n",
       "    .dataframe tbody tr th {\n",
       "        vertical-align: top;\n",
       "    }\n",
       "\n",
       "    .dataframe thead th {\n",
       "        text-align: right;\n",
       "    }\n",
       "</style>\n",
       "<table border=\"1\" class=\"dataframe\">\n",
       "  <thead>\n",
       "    <tr style=\"text-align: right;\">\n",
       "      <th></th>\n",
       "      <th>2.5%</th>\n",
       "      <th>97.5%</th>\n",
       "    </tr>\n",
       "  </thead>\n",
       "  <tbody>\n",
       "    <tr>\n",
       "      <th>Edad</th>\n",
       "      <td>-0.108459</td>\n",
       "      <td>-0.105794</td>\n",
       "    </tr>\n",
       "    <tr>\n",
       "      <th>Sexo_T</th>\n",
       "      <td>-0.635130</td>\n",
       "      <td>-0.565192</td>\n",
       "    </tr>\n",
       "    <tr>\n",
       "      <th>PlazoYr360</th>\n",
       "      <td>3.856410</td>\n",
       "      <td>3.945247</td>\n",
       "    </tr>\n",
       "    <tr>\n",
       "      <th>PrimaAnualEst</th>\n",
       "      <td>0.316564</td>\n",
       "      <td>0.349237</td>\n",
       "    </tr>\n",
       "    <tr>\n",
       "      <th>Frec_Pago_Mensual</th>\n",
       "      <td>-2.769366</td>\n",
       "      <td>-2.674070</td>\n",
       "    </tr>\n",
       "  </tbody>\n",
       "</table>\n",
       "</div>"
      ],
      "text/plain": [
       "                       2.5%     97.5%\n",
       "Edad              -0.108459 -0.105794\n",
       "Sexo_T            -0.635130 -0.565192\n",
       "PlazoYr360         3.856410  3.945247\n",
       "PrimaAnualEst      0.316564  0.349237\n",
       "Frec_Pago_Mensual -2.769366 -2.674070"
      ]
     },
     "execution_count": 55,
     "metadata": {},
     "output_type": "execute_result"
    }
   ],
   "source": [
    "# Intervalos de confianza para los coeficientes del modelo\n",
    "# ==============================================================================\n",
    "intervalos_ci = result.conf_int(alpha=0.05)\n",
    "intervalos_ci = pd.DataFrame(intervalos_ci)\n",
    "intervalos_ci.columns = ['2.5%', '97.5%']\n",
    "intervalos_ci"
   ]
  },
  {
   "cell_type": "markdown",
   "metadata": {},
   "source": [
    "### Modelo de regresión logística scikit-learn."
   ]
  },
  {
   "cell_type": "code",
   "execution_count": 70,
   "metadata": {},
   "outputs": [
    {
     "name": "stderr",
     "output_type": "stream",
     "text": [
      "/Users/macbook/anaconda3/lib/python3.7/site-packages/sklearn/model_selection/_split.py:2179: FutureWarning: From version 0.21, test_size will always complement train_size unless both are specified.\n",
      "  FutureWarning)\n"
     ]
    },
    {
     "data": {
      "text/plain": [
       "LogisticRegression(C=1.0, class_weight=None, dual=False, fit_intercept=True,\n",
       "          intercept_scaling=1, max_iter=100, multi_class='warn',\n",
       "          n_jobs=None, penalty='l2', random_state=1, solver='newton-cg',\n",
       "          tol=0.0001, verbose=0, warm_start=False)"
      ]
     },
     "execution_count": 70,
     "metadata": {},
     "output_type": "execute_result"
    }
   ],
   "source": [
    "# División de los datos en train y test\n",
    "# ==============================================================================\n",
    "y = df['Sobrevive']\n",
    "X = df.drop('Sobrevive', axis=1)\n",
    "\n",
    "X_train, X_test, y_train, y_test = train_test_split(\n",
    "                                        X.values,\n",
    "                                        y.values,\n",
    "                                        train_size   = 0.8,\n",
    "                                        random_state = 1234,\n",
    "                                        shuffle      = True\n",
    "                                    )\n",
    "\n",
    "# Creación del modelo\n",
    "# ==============================================================================\n",
    "# Para no incluir ningún tipo de regularización en el modelo se indica\n",
    "# penalty='none'\n",
    "modelo = LogisticRegression(C=1.0,penalty='l2',random_state=1,solver=\"newton-cg\")\n",
    "modelo.fit(X = X_train, y = y_train)"
   ]
  },
  {
   "cell_type": "code",
   "execution_count": 71,
   "metadata": {},
   "outputs": [
    {
     "name": "stdout",
     "output_type": "stream",
     "text": [
      "Intercept: [-12.77544864]\n",
      "Coeficiente: [('Edad', 0.011661921105566913), ('Sexo_T', -0.0004906087510079263), ('PlazoYr360', 6.371407254156929), ('PrimaAnualEst', 0.029206130348983478), ('Frec_Pago_Mensual', 0.49884488056591286)]\n",
      "Accuracy de entrenamiento: 0.9186202471057905\n"
     ]
    }
   ],
   "source": [
    "# Información del modelo. ==============================================================================\n",
    "print(\"Intercept:\", modelo.intercept_)\n",
    "print(\"Coeficiente:\", list(zip(X.columns, modelo.coef_.flatten(), )))\n",
    "print(\"Accuracy de entrenamiento:\", modelo.score(X, y))\n"
   ]
  },
  {
   "cell_type": "code",
   "execution_count": 72,
   "metadata": {},
   "outputs": [
    {
     "data": {
      "text/html": [
       "<div>\n",
       "<style scoped>\n",
       "    .dataframe tbody tr th:only-of-type {\n",
       "        vertical-align: middle;\n",
       "    }\n",
       "\n",
       "    .dataframe tbody tr th {\n",
       "        vertical-align: top;\n",
       "    }\n",
       "\n",
       "    .dataframe thead th {\n",
       "        text-align: right;\n",
       "    }\n",
       "</style>\n",
       "<table border=\"1\" class=\"dataframe\">\n",
       "  <thead>\n",
       "    <tr style=\"text-align: right;\">\n",
       "      <th></th>\n",
       "      <th>0</th>\n",
       "      <th>1</th>\n",
       "    </tr>\n",
       "  </thead>\n",
       "  <tbody>\n",
       "    <tr>\n",
       "      <th>0</th>\n",
       "      <td>0.772927</td>\n",
       "      <td>0.227073</td>\n",
       "    </tr>\n",
       "    <tr>\n",
       "      <th>1</th>\n",
       "      <td>0.985698</td>\n",
       "      <td>0.014302</td>\n",
       "    </tr>\n",
       "    <tr>\n",
       "      <th>2</th>\n",
       "      <td>0.995558</td>\n",
       "      <td>0.004442</td>\n",
       "    </tr>\n",
       "  </tbody>\n",
       "</table>\n",
       "</div>"
      ],
      "text/plain": [
       "          0         1\n",
       "0  0.772927  0.227073\n",
       "1  0.985698  0.014302\n",
       "2  0.995558  0.004442"
      ]
     },
     "execution_count": 72,
     "metadata": {},
     "output_type": "execute_result"
    }
   ],
   "source": [
    "# Predicciones probabilísticas\n",
    "# ==============================================================================\n",
    "# Con .predict_proba() se obtiene, para cada observación, la probabilidad predicha\n",
    "# de pertenecer a cada una de las dos clases.\n",
    "predicciones = modelo.predict_proba(X = X_test)\n",
    "predicciones = pd.DataFrame(predicciones, columns = modelo.classes_)\n",
    "predicciones.head(3)"
   ]
  },
  {
   "cell_type": "markdown",
   "metadata": {},
   "source": [
    "### Modelo. Estrategia penalización. "
   ]
  },
  {
   "cell_type": "code",
   "execution_count": 58,
   "metadata": {},
   "outputs": [
    {
     "name": "stdout",
     "output_type": "stream",
     "text": [
      "Intercept: [-14.05478706]\n",
      "Coeficiente: [('Edad', 0.010441065603668209), ('Sexo_T', 0.039484134407319765), ('PlazoYr360', 7.8937380888075515), ('PrimaAnualEst', 0.028570962241042837), ('Frec_Pago_Mensual', 0.3709767897540281)]\n",
      "Accuracy de entrenamiento: 0.941153265551938\n"
     ]
    },
    {
     "data": {
      "image/png": "[encoded data removed]",
      "text/plain": [
       "<Figure size 864x864 with 2 Axes>"
      ]
     },
     "metadata": {
      "needs_background": "light"
     },
     "output_type": "display_data"
    },
    {
     "name": "stdout",
     "output_type": "stream",
     "text": [
      "              precision    recall  f1-score   support\n",
      "\n",
      "           0       1.00      0.92      0.96     45051\n",
      "           1       0.78      1.00      0.88     11986\n",
      "\n",
      "   micro avg       0.94      0.94      0.94     57037\n",
      "   macro avg       0.89      0.96      0.92     57037\n",
      "weighted avg       0.95      0.94      0.94     57037\n",
      "\n"
     ]
    }
   ],
   "source": [
    "def run_model_balanced(X_train, X_test, y_train, y_test):\n",
    "    clf = LogisticRegression(C=1.0,penalty='l2',random_state=1,solver=\"newton-cg\",class_weight=\"balanced\")\n",
    "    clf.fit(X_train, y_train)\n",
    "    print(\"Intercept:\", clf.intercept_)\n",
    "    print(\"Coeficiente:\", list(zip(X.columns, clf.coef_.flatten(), )))\n",
    "    print(\"Accuracy de entrenamiento:\", clf.score(X, y))\n",
    "    return clf\n",
    " \n",
    "model = run_model_balanced(X_train, X_test, y_train, y_test)\n",
    "pred_y = model.predict(X_test)\n",
    "mostrar_resultados(y_test, pred_y)\n",
    "\n"
   ]
  },
  {
   "cell_type": "markdown",
   "metadata": {},
   "source": [
    "### Estrategia: Oversampling de la clase minoritaria"
   ]
  },
  {
   "cell_type": "code",
   "execution_count": 59,
   "metadata": {},
   "outputs": [
    {
     "name": "stdout",
     "output_type": "stream",
     "text": [
      "Distribution before resampling Counter({0: 104858, 1: 28226})\n",
      "Distribution labels after resampling Counter({0: 104858, 1: 52429})\n",
      "Intercept: [-13.24984927]\n",
      "Coeficiente: [('Edad', 0.011228067756571156), ('Sexo_T', 0.048796690406675565), ('PlazoYr360', 7.020729231424347), ('PrimaAnualEst', 0.02128321462672838), ('Frec_Pago_Mensual', 0.4137303649959793)]\n",
      "Accuracy de entrenamiento: 0.9377238705876784\n"
     ]
    },
    {
     "data": {
      "image/png": "[encoded data removed]",
      "text/plain": [
       "<Figure size 864x864 with 2 Axes>"
      ]
     },
     "metadata": {
      "needs_background": "light"
     },
     "output_type": "display_data"
    },
    {
     "name": "stdout",
     "output_type": "stream",
     "text": [
      "              precision    recall  f1-score   support\n",
      "\n",
      "           0       0.98      0.94      0.96     45051\n",
      "           1       0.80      0.94      0.86     11986\n",
      "\n",
      "   micro avg       0.94      0.94      0.94     57037\n",
      "   macro avg       0.89      0.94      0.91     57037\n",
      "weighted avg       0.94      0.94      0.94     57037\n",
      "\n"
     ]
    }
   ],
   "source": [
    "os =  RandomOverSampler(ratio=0.5)\n",
    "X_train_res, y_train_res = os.fit_sample(X_train, y_train)\n",
    " \n",
    "print (\"Distribution before resampling {}\".format(Counter(y_train)))\n",
    "print (\"Distribution labels after resampling {}\".format(Counter(y_train_res)))\n",
    " \n",
    "model = run_model(X_train_res, X_test, y_train_res, y_test)\n",
    "pred_y = model.predict(X_test)\n",
    "mostrar_resultados(y_test, pred_y)"
   ]
  },
  {
   "cell_type": "markdown",
   "metadata": {},
   "source": [
    "### Estrategia: Combinamos resampling con Smote-Tomek"
   ]
  },
  {
   "cell_type": "code",
   "execution_count": 60,
   "metadata": {},
   "outputs": [
    {
     "name": "stdout",
     "output_type": "stream",
     "text": [
      "Distribution before resampling Counter({0: 104858, 1: 28226})\n",
      "Distribution after resampling Counter({0: 103195, 1: 50766})\n",
      "Intercept: [-14.5109271]\n",
      "Coeficiente: [('Edad', 0.011932798074823246), ('Sexo_T', 0.044658084453968384), ('PlazoYr360', 7.766136535373773), ('PrimaAnualEst', 0.03970893439672057), ('Frec_Pago_Mensual', 0.43635408121988234)]\n",
      "Accuracy de entrenamiento: 0.9391334991926195\n"
     ]
    },
    {
     "data": {
      "image/png": "[encoded data removed]",
      "text/plain": [
       "<Figure size 864x864 with 2 Axes>"
      ]
     },
     "metadata": {
      "needs_background": "light"
     },
     "output_type": "display_data"
    },
    {
     "name": "stdout",
     "output_type": "stream",
     "text": [
      "              precision    recall  f1-score   support\n",
      "\n",
      "           0       0.99      0.93      0.96     45051\n",
      "           1       0.80      0.95      0.87     11986\n",
      "\n",
      "   micro avg       0.94      0.94      0.94     57037\n",
      "   macro avg       0.89      0.94      0.91     57037\n",
      "weighted avg       0.95      0.94      0.94     57037\n",
      "\n"
     ]
    }
   ],
   "source": [
    "os_us = SMOTETomek(ratio=0.5)\n",
    "X_train_res, y_train_res = os_us.fit_sample(X_train, y_train)\n",
    " \n",
    "print (\"Distribution before resampling {}\".format(Counter(y_train)))\n",
    "print (\"Distribution after resampling {}\".format(Counter(y_train_res)))\n",
    " \n",
    "model = run_model(X_train_res, X_test, y_train_res, y_test)\n",
    "pred_y = model.predict(X_test)\n",
    "mostrar_resultados(y_test, pred_y)"
   ]
  },
  {
   "cell_type": "code",
   "execution_count": null,
   "metadata": {},
   "outputs": [],
   "source": []
  }
 ],
 "metadata": {
  "kernelspec": {
   "display_name": "Python 3",
   "language": "python",
   "name": "python3"
  },
  "language_info": {
   "codemirror_mode": {
    "name": "ipython",
    "version": 3
   },
   "file_extension": ".py",
   "mimetype": "text/x-python",
   "name": "python",
   "nbconvert_exporter": "python",
   "pygments_lexer": "ipython3",
   "version": "3.7.1"
  }
 },
 "nbformat": 4,
 "nbformat_minor": 2
}
