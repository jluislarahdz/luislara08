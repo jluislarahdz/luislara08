{
 "cells": [
  {
   "cell_type": "code",
   "execution_count": 1,
   "metadata": {},
   "outputs": [],
   "source": [
    "# Ficheros primarios necesarios.\n",
    "\n",
    "import pandas as pd\n",
    "import numpy as np\n",
    "import matplotlib.pyplot as plt\n",
    "import seaborn as sns\n",
    "import os\n",
    "\n",
    "from sklearn.metrics import confusion_matrix\n",
    "from sklearn.metrics import classification_report\n",
    "from sklearn.model_selection import train_test_split\n",
    "from sklearn.linear_model import LogisticRegression\n",
    "from sklearn.decomposition import PCA\n",
    "from sklearn.tree import DecisionTreeClassifier\n",
    "\n",
    "from pylab import rcParams\n",
    "\n",
    "from imblearn.under_sampling import NearMiss\n",
    "from imblearn.over_sampling import RandomOverSampler\n",
    "from imblearn.combine import SMOTETomek\n",
    "from imblearn.ensemble import BalancedBaggingClassifier\n",
    "\n",
    "\n",
    "from collections import Counter\n",
    "\n",
    "# Gráficos\n",
    "# ==============================================================================\n",
    "from matplotlib import style\n",
    "\n",
    "\n",
    "rcParams['figure.figsize'] = 14, 8.7 \n",
    "LABELS = [\"Normal\",\"Fraud\"]\n",
    "%matplotlib inline"
   ]
  },
  {
   "cell_type": "markdown",
   "metadata": {},
   "source": [
    "### Dataframe. "
   ]
  },
  {
   "cell_type": "code",
   "execution_count": 2,
   "metadata": {},
   "outputs": [],
   "source": [
    "mainpath = \"/Users/macbook/Python Programs/datasets/\"\n",
    "filename = \"Datos/BaseDatos2020.xlsx\"\n",
    "fullpad = fullpath = os.path.join(mainpath, filename)"
   ]
  },
  {
   "cell_type": "code",
   "execution_count": 3,
   "metadata": {},
   "outputs": [],
   "source": [
    "df = pd.read_excel(fullpath)"
   ]
  },
  {
   "cell_type": "code",
   "execution_count": 4,
   "metadata": {},
   "outputs": [
    {
     "data": {
      "text/html": [
       "<div>\n",
       "<style scoped>\n",
       "    .dataframe tbody tr th:only-of-type {\n",
       "        vertical-align: middle;\n",
       "    }\n",
       "\n",
       "    .dataframe tbody tr th {\n",
       "        vertical-align: top;\n",
       "    }\n",
       "\n",
       "    .dataframe thead th {\n",
       "        text-align: right;\n",
       "    }\n",
       "</style>\n",
       "<table border=\"1\" class=\"dataframe\">\n",
       "  <thead>\n",
       "    <tr style=\"text-align: right;\">\n",
       "      <th></th>\n",
       "      <th>Edad</th>\n",
       "      <th>Sexo_T</th>\n",
       "      <th>PlazoYr360</th>\n",
       "      <th>PrimaAnualEst</th>\n",
       "      <th>Frec_Pago_Mensual</th>\n",
       "      <th>Sobrevive</th>\n",
       "    </tr>\n",
       "  </thead>\n",
       "  <tbody>\n",
       "    <tr>\n",
       "      <th>0</th>\n",
       "      <td>66</td>\n",
       "      <td>0</td>\n",
       "      <td>1.000000</td>\n",
       "      <td>1.917595</td>\n",
       "      <td>0</td>\n",
       "      <td>0</td>\n",
       "    </tr>\n",
       "    <tr>\n",
       "      <th>1</th>\n",
       "      <td>41</td>\n",
       "      <td>1</td>\n",
       "      <td>1.000000</td>\n",
       "      <td>0.018418</td>\n",
       "      <td>1</td>\n",
       "      <td>0</td>\n",
       "    </tr>\n",
       "    <tr>\n",
       "      <th>2</th>\n",
       "      <td>66</td>\n",
       "      <td>0</td>\n",
       "      <td>1.000000</td>\n",
       "      <td>-0.149204</td>\n",
       "      <td>1</td>\n",
       "      <td>0</td>\n",
       "    </tr>\n",
       "    <tr>\n",
       "      <th>3</th>\n",
       "      <td>32</td>\n",
       "      <td>1</td>\n",
       "      <td>1.000000</td>\n",
       "      <td>-0.348033</td>\n",
       "      <td>0</td>\n",
       "      <td>0</td>\n",
       "    </tr>\n",
       "    <tr>\n",
       "      <th>4</th>\n",
       "      <td>49</td>\n",
       "      <td>1</td>\n",
       "      <td>2.116667</td>\n",
       "      <td>0.141711</td>\n",
       "      <td>1</td>\n",
       "      <td>1</td>\n",
       "    </tr>\n",
       "    <tr>\n",
       "      <th>5</th>\n",
       "      <td>41</td>\n",
       "      <td>0</td>\n",
       "      <td>1.802778</td>\n",
       "      <td>2.750068</td>\n",
       "      <td>1</td>\n",
       "      <td>1</td>\n",
       "    </tr>\n",
       "    <tr>\n",
       "      <th>6</th>\n",
       "      <td>32</td>\n",
       "      <td>0</td>\n",
       "      <td>2.508333</td>\n",
       "      <td>0.865052</td>\n",
       "      <td>0</td>\n",
       "      <td>1</td>\n",
       "    </tr>\n",
       "    <tr>\n",
       "      <th>7</th>\n",
       "      <td>25</td>\n",
       "      <td>0</td>\n",
       "      <td>1.083333</td>\n",
       "      <td>-0.107941</td>\n",
       "      <td>1</td>\n",
       "      <td>0</td>\n",
       "    </tr>\n",
       "    <tr>\n",
       "      <th>8</th>\n",
       "      <td>62</td>\n",
       "      <td>0</td>\n",
       "      <td>2.483333</td>\n",
       "      <td>-0.293556</td>\n",
       "      <td>1</td>\n",
       "      <td>1</td>\n",
       "    </tr>\n",
       "    <tr>\n",
       "      <th>9</th>\n",
       "      <td>55</td>\n",
       "      <td>0</td>\n",
       "      <td>2.425000</td>\n",
       "      <td>-0.071503</td>\n",
       "      <td>1</td>\n",
       "      <td>1</td>\n",
       "    </tr>\n",
       "  </tbody>\n",
       "</table>\n",
       "</div>"
      ],
      "text/plain": [
       "   Edad  Sexo_T  PlazoYr360  PrimaAnualEst  Frec_Pago_Mensual  Sobrevive\n",
       "0    66       0    1.000000       1.917595                  0          0\n",
       "1    41       1    1.000000       0.018418                  1          0\n",
       "2    66       0    1.000000      -0.149204                  1          0\n",
       "3    32       1    1.000000      -0.348033                  0          0\n",
       "4    49       1    2.116667       0.141711                  1          1\n",
       "5    41       0    1.802778       2.750068                  1          1\n",
       "6    32       0    2.508333       0.865052                  0          1\n",
       "7    25       0    1.083333      -0.107941                  1          0\n",
       "8    62       0    2.483333      -0.293556                  1          1\n",
       "9    55       0    2.425000      -0.071503                  1          1"
      ]
     },
     "execution_count": 4,
     "metadata": {},
     "output_type": "execute_result"
    }
   ],
   "source": [
    "df.head(10)"
   ]
  },
  {
   "cell_type": "code",
   "execution_count": 5,
   "metadata": {},
   "outputs": [],
   "source": [
    "# Eliminando PlazoYr360\n",
    "df1= df.drop(['PlazoYr360'], axis=1)"
   ]
  },
  {
   "cell_type": "code",
   "execution_count": 6,
   "metadata": {},
   "outputs": [
    {
     "data": {
      "text/html": [
       "<div>\n",
       "<style scoped>\n",
       "    .dataframe tbody tr th:only-of-type {\n",
       "        vertical-align: middle;\n",
       "    }\n",
       "\n",
       "    .dataframe tbody tr th {\n",
       "        vertical-align: top;\n",
       "    }\n",
       "\n",
       "    .dataframe thead th {\n",
       "        text-align: right;\n",
       "    }\n",
       "</style>\n",
       "<table border=\"1\" class=\"dataframe\">\n",
       "  <thead>\n",
       "    <tr style=\"text-align: right;\">\n",
       "      <th></th>\n",
       "      <th>Edad</th>\n",
       "      <th>Sexo_T</th>\n",
       "      <th>PrimaAnualEst</th>\n",
       "      <th>Frec_Pago_Mensual</th>\n",
       "      <th>Sobrevive</th>\n",
       "    </tr>\n",
       "  </thead>\n",
       "  <tbody>\n",
       "    <tr>\n",
       "      <th>0</th>\n",
       "      <td>66</td>\n",
       "      <td>0</td>\n",
       "      <td>1.917595</td>\n",
       "      <td>0</td>\n",
       "      <td>0</td>\n",
       "    </tr>\n",
       "    <tr>\n",
       "      <th>1</th>\n",
       "      <td>41</td>\n",
       "      <td>1</td>\n",
       "      <td>0.018418</td>\n",
       "      <td>1</td>\n",
       "      <td>0</td>\n",
       "    </tr>\n",
       "    <tr>\n",
       "      <th>2</th>\n",
       "      <td>66</td>\n",
       "      <td>0</td>\n",
       "      <td>-0.149204</td>\n",
       "      <td>1</td>\n",
       "      <td>0</td>\n",
       "    </tr>\n",
       "    <tr>\n",
       "      <th>3</th>\n",
       "      <td>32</td>\n",
       "      <td>1</td>\n",
       "      <td>-0.348033</td>\n",
       "      <td>0</td>\n",
       "      <td>0</td>\n",
       "    </tr>\n",
       "    <tr>\n",
       "      <th>4</th>\n",
       "      <td>49</td>\n",
       "      <td>1</td>\n",
       "      <td>0.141711</td>\n",
       "      <td>1</td>\n",
       "      <td>1</td>\n",
       "    </tr>\n",
       "    <tr>\n",
       "      <th>5</th>\n",
       "      <td>41</td>\n",
       "      <td>0</td>\n",
       "      <td>2.750068</td>\n",
       "      <td>1</td>\n",
       "      <td>1</td>\n",
       "    </tr>\n",
       "    <tr>\n",
       "      <th>6</th>\n",
       "      <td>32</td>\n",
       "      <td>0</td>\n",
       "      <td>0.865052</td>\n",
       "      <td>0</td>\n",
       "      <td>1</td>\n",
       "    </tr>\n",
       "    <tr>\n",
       "      <th>7</th>\n",
       "      <td>25</td>\n",
       "      <td>0</td>\n",
       "      <td>-0.107941</td>\n",
       "      <td>1</td>\n",
       "      <td>0</td>\n",
       "    </tr>\n",
       "    <tr>\n",
       "      <th>8</th>\n",
       "      <td>62</td>\n",
       "      <td>0</td>\n",
       "      <td>-0.293556</td>\n",
       "      <td>1</td>\n",
       "      <td>1</td>\n",
       "    </tr>\n",
       "    <tr>\n",
       "      <th>9</th>\n",
       "      <td>55</td>\n",
       "      <td>0</td>\n",
       "      <td>-0.071503</td>\n",
       "      <td>1</td>\n",
       "      <td>1</td>\n",
       "    </tr>\n",
       "  </tbody>\n",
       "</table>\n",
       "</div>"
      ],
      "text/plain": [
       "   Edad  Sexo_T  PrimaAnualEst  Frec_Pago_Mensual  Sobrevive\n",
       "0    66       0       1.917595                  0          0\n",
       "1    41       1       0.018418                  1          0\n",
       "2    66       0      -0.149204                  1          0\n",
       "3    32       1      -0.348033                  0          0\n",
       "4    49       1       0.141711                  1          1\n",
       "5    41       0       2.750068                  1          1\n",
       "6    32       0       0.865052                  0          1\n",
       "7    25       0      -0.107941                  1          0\n",
       "8    62       0      -0.293556                  1          1\n",
       "9    55       0      -0.071503                  1          1"
      ]
     },
     "execution_count": 6,
     "metadata": {},
     "output_type": "execute_result"
    }
   ],
   "source": [
    "df1.head(10)"
   ]
  },
  {
   "cell_type": "markdown",
   "metadata": {},
   "source": [
    "### Implementación de regresión logística. Antes de la penalización para ejecutar las primeras funciónes y los datos de entrenamiento del dataframe."
   ]
  },
  {
   "cell_type": "code",
   "execution_count": 10,
   "metadata": {},
   "outputs": [
    {
     "name": "stderr",
     "output_type": "stream",
     "text": [
      "/Users/macbook/anaconda3/lib/python3.7/site-packages/sklearn/model_selection/_split.py:2179: FutureWarning: From version 0.21, test_size will always complement train_size unless both are specified.\n",
      "  FutureWarning)\n"
     ]
    },
    {
     "name": "stdout",
     "output_type": "stream",
     "text": [
      "Intercept: [-4.42481811]\n",
      "Coeficiente: [('Edad', 0.028280910073867235), ('Sexo_T', 0.059785698287798346), ('PrimaAnualEst', -0.03195772440631821), ('Frec_Pago_Mensual', 2.0962334249888657)]\n",
      "Accuracy de entrenamiento: 0.7884925915601118\n"
     ]
    },
    {
     "data": {
      "image/png": "[encoded data removed]",
      "text/plain": [
       "<Figure size 864x864 with 2 Axes>"
      ]
     },
     "metadata": {
      "needs_background": "light"
     },
     "output_type": "display_data"
    },
    {
     "name": "stdout",
     "output_type": "stream",
     "text": [
      "              precision    recall  f1-score   support\n",
      "\n",
      "           0       0.79      1.00      0.88     44962\n",
      "           1       0.00      0.00      0.00     12075\n",
      "\n",
      "   micro avg       0.79      0.79      0.79     57037\n",
      "   macro avg       0.39      0.50      0.44     57037\n",
      "weighted avg       0.62      0.79      0.69     57037\n",
      "\n"
     ]
    },
    {
     "name": "stderr",
     "output_type": "stream",
     "text": [
      "/Users/macbook/anaconda3/lib/python3.7/site-packages/sklearn/metrics/classification.py:1143: UndefinedMetricWarning: Precision and F-score are ill-defined and being set to 0.0 in labels with no predicted samples.\n",
      "  'precision', 'predicted', average, warn_for)\n",
      "/Users/macbook/anaconda3/lib/python3.7/site-packages/sklearn/metrics/classification.py:1143: UndefinedMetricWarning: Precision and F-score are ill-defined and being set to 0.0 in labels with no predicted samples.\n",
      "  'precision', 'predicted', average, warn_for)\n",
      "/Users/macbook/anaconda3/lib/python3.7/site-packages/sklearn/metrics/classification.py:1143: UndefinedMetricWarning: Precision and F-score are ill-defined and being set to 0.0 in labels with no predicted samples.\n",
      "  'precision', 'predicted', average, warn_for)\n"
     ]
    }
   ],
   "source": [
    "y = df1['Sobrevive']\n",
    "X = df1.drop('Sobrevive', axis=1)\n",
    "#dividimos en sets de entrenamiento y test\n",
    "X_train, X_test, y_train, y_test = train_test_split(X, y, train_size=0.7)\n",
    " \n",
    "#creamos una función que crea el modelo que usaremos cada vez\n",
    "def run_model(X_train, X_test, y_train, y_test):\n",
    "    clf_base = LogisticRegression(C=1.0,penalty='l2',random_state=1,solver=\"newton-cg\")\n",
    "    result = clf_base.fit(X_train, y_train)\n",
    "    print(\"Intercept:\", clf_base.intercept_)\n",
    "    print(\"Coeficiente:\", list(zip(X.columns, clf_base.coef_.flatten(), )))\n",
    "    print(\"Accuracy de entrenamiento:\", clf_base.score(X, y))\n",
    "    \n",
    "    \n",
    "    return clf_base\n",
    "  \n",
    "\n",
    "\n",
    " \n",
    "#ejecutamos el modelo \"tal cual\"\n",
    "model = run_model(X_train, X_test, y_train, y_test)\n",
    "\n",
    " \n",
    "#definimos funciona para mostrar los resultados\n",
    "def mostrar_resultados(y_test, pred_y):\n",
    "    conf_matrix = confusion_matrix(y_test, pred_y)\n",
    "    plt.figure(figsize=(12, 12))\n",
    "    sns.heatmap(conf_matrix, xticklabels=LABELS, yticklabels=LABELS, annot=True, fmt=\"d\");\n",
    "    plt.title(\"Confusion matrix\")\n",
    "    plt.ylabel('True class')\n",
    "    plt.xlabel('Predicted class')\n",
    "    plt.show()\n",
    "    print (classification_report(y_test, pred_y))\n",
    " \n",
    "pred_y = model.predict(X_test)\n",
    "mostrar_resultados(y_test, pred_y)\n"
   ]
  },
  {
   "cell_type": "markdown",
   "metadata": {},
   "source": [
    "### Modelo. Estrategia penalización. "
   ]
  },
  {
   "cell_type": "code",
   "execution_count": 11,
   "metadata": {},
   "outputs": [
    {
     "name": "stdout",
     "output_type": "stream",
     "text": [
      "Intercept: [-3.13457614]\n",
      "Coeficiente: [('Edad', 0.02875850197961821), ('Sexo_T', 0.05607422368217699), ('PrimaAnualEst', -0.031822729420372654), ('Frec_Pago_Mensual', 2.1040465764878045)]\n",
      "Accuracy de entrenamiento: 0.5587546878040827\n"
     ]
    },
    {
     "data": {
      "image/png": "[encoded data removed]",
      "text/plain": [
       "<Figure size 864x864 with 2 Axes>"
      ]
     },
     "metadata": {
      "needs_background": "light"
     },
     "output_type": "display_data"
    },
    {
     "name": "stdout",
     "output_type": "stream",
     "text": [
      "              precision    recall  f1-score   support\n",
      "\n",
      "           0       0.87      0.52      0.65     44962\n",
      "           1       0.28      0.72      0.41     12075\n",
      "\n",
      "   micro avg       0.56      0.56      0.56     57037\n",
      "   macro avg       0.58      0.62      0.53     57037\n",
      "weighted avg       0.75      0.56      0.60     57037\n",
      "\n"
     ]
    }
   ],
   "source": [
    "def run_model_balanced(X_train, X_test, y_train, y_test):\n",
    "    clf = LogisticRegression(C=1.0,penalty='l2',random_state=1,solver=\"newton-cg\",class_weight=\"balanced\")\n",
    "    clf.fit(X_train, y_train)\n",
    "    print(\"Intercept:\", clf.intercept_)\n",
    "    print(\"Coeficiente:\", list(zip(X.columns, clf.coef_.flatten(), )))\n",
    "    print(\"Accuracy de entrenamiento:\", clf.score(X, y))\n",
    "    return clf\n",
    " \n",
    "model = run_model_balanced(X_train, X_test, y_train, y_test)\n",
    "pred_y = model.predict(X_test)\n",
    "mostrar_resultados(y_test, pred_y)\n",
    "\n"
   ]
  },
  {
   "cell_type": "code",
   "execution_count": null,
   "metadata": {},
   "outputs": [],
   "source": []
  }
 ],
 "metadata": {
  "kernelspec": {
   "display_name": "Python 3",
   "language": "python",
   "name": "python3"
  },
  "language_info": {
   "codemirror_mode": {
    "name": "ipython",
    "version": 3
   },
   "file_extension": ".py",
   "mimetype": "text/x-python",
   "name": "python",
   "nbconvert_exporter": "python",
   "pygments_lexer": "ipython3",
   "version": "3.7.1"
  }
 },
 "nbformat": 4,
 "nbformat_minor": 2
}
